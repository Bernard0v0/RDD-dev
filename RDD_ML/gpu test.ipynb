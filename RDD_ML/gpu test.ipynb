{
 "cells": [
  {
   "cell_type": "code",
   "id": "initial_id",
   "metadata": {
    "collapsed": true,
    "jupyter": {
     "is_executing": true
    }
   },
   "source": [
    "import torch\n",
    "print(torch.cuda.is_available())\n",
    "print(torch.cuda.device_count())\n",
    "print(torch.cuda.current_device())\n",
    "print(torch.cuda.device(0))\n",
    "print(torch.cuda.get_device_name(0))\n",
    "torch.cuda.empty_cache()"
   ],
   "outputs": [],
   "execution_count": null
  },
  {
   "metadata": {
    "ExecuteTime": {
     "end_time": "2024-08-03T14:19:43.127563Z",
     "start_time": "2024-08-03T14:19:43.121497Z"
    }
   },
   "cell_type": "code",
   "source": "print(torch.__version__)",
   "id": "15f9061f19757dcf",
   "outputs": [
    {
     "name": "stdout",
     "output_type": "stream",
     "text": [
      "1.13.1+cu117\n"
     ]
    }
   ],
   "execution_count": 2
  },
  {
   "metadata": {
    "ExecuteTime": {
     "end_time": "2024-08-03T14:19:47.331655Z",
     "start_time": "2024-08-03T14:19:47.328436Z"
    }
   },
   "cell_type": "code",
   "source": "print(torch.version.cuda)",
   "id": "3792b871691e50ef",
   "outputs": [
    {
     "name": "stdout",
     "output_type": "stream",
     "text": [
      "11.7\n"
     ]
    }
   ],
   "execution_count": 3
  },
  {
   "metadata": {
    "ExecuteTime": {
     "end_time": "2024-05-26T14:55:58.381307Z",
     "start_time": "2024-05-26T14:55:58.379814Z"
    }
   },
   "cell_type": "code",
   "source": "",
   "id": "3c19bc1f965f2d34",
   "outputs": [],
   "execution_count": 3
  },
  {
   "metadata": {
    "ExecuteTime": {
     "end_time": "2024-05-26T15:01:52.072175Z",
     "start_time": "2024-05-26T15:01:52.070406Z"
    }
   },
   "cell_type": "code",
   "source": "",
   "id": "c740629970903af8",
   "outputs": [],
   "execution_count": 3
  },
  {
   "metadata": {
    "ExecuteTime": {
     "end_time": "2024-05-26T15:19:58.095656Z",
     "start_time": "2024-05-26T15:19:58.093760Z"
    }
   },
   "cell_type": "code",
   "source": "",
   "id": "dde64bba41d601f5",
   "outputs": [],
   "execution_count": 3
  },
  {
   "metadata": {},
   "cell_type": "code",
   "outputs": [],
   "execution_count": null,
   "source": "",
   "id": "bbc2731e3d5eed8d"
  }
 ],
 "metadata": {
  "kernelspec": {
   "display_name": "Python 3",
   "language": "python",
   "name": "python3"
  },
  "language_info": {
   "codemirror_mode": {
    "name": "ipython",
    "version": 2
   },
   "file_extension": ".py",
   "mimetype": "text/x-python",
   "name": "python",
   "nbconvert_exporter": "python",
   "pygments_lexer": "ipython2",
   "version": "2.7.6"
  }
 },
 "nbformat": 4,
 "nbformat_minor": 5
}
